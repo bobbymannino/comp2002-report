{
 "cells": [
  {
   "cell_type": "markdown",
   "metadata": {},
   "source": [
    "# 1.1 Data Preparation"
   ]
  },
  {
   "cell_type": "code",
   "execution_count": null,
   "metadata": {},
   "outputs": [],
   "source": [
    "import numpy as np\n",
    "from pandas import read_csv"
   ]
  },
  {
   "cell_type": "code",
   "execution_count": null,
   "metadata": {},
   "outputs": [],
   "source": [
    "def parse_csv(filepath: str):\n",
    "    data = read_csv(filepath)\n",
    "\n",
    "    # targets = array of target values (last column)\n",
    "    targets = data.values[:, -1].astype(float)\n",
    "\n",
    "    # inputs = array of input values (all columns except last)\n",
    "    inputs = data.values[:, :-1].astype(float)\n",
    "\n",
    "    return np.array(inputs), np.array(targets)"
   ]
  },
  {
   "cell_type": "code",
   "execution_count": null,
   "metadata": {},
   "outputs": [],
   "source": [
    "inputs, targets = parse_csv('glass-dataset.csv')"
   ]
  },
  {
   "cell_type": "code",
   "execution_count": null,
   "metadata": {},
   "outputs": [],
   "source": [
    "# This is just to prove its working\n",
    "print(inputs[:5]);"
   ]
  },
  {
   "cell_type": "markdown",
   "metadata": {},
   "source": [
    "# 1.2 Classification"
   ]
  },
  {
   "cell_type": "code",
   "execution_count": null,
   "metadata": {},
   "outputs": [],
   "source": [
    "from sklearn.neighbors import KNeighborsClassifier\n",
    "import matplotlib.pyplot as plt\n",
    "from sklearn.decomposition import PCA\n",
    "from sklearn.svm import SVC"
   ]
  },
  {
   "cell_type": "code",
   "execution_count": null,
   "metadata": {},
   "outputs": [],
   "source": [
    "def pca(inputs):\n",
    "    pca = PCA(n_components=2)\n",
    "    \n",
    "    return pca.fit_transform(inputs)"
   ]
  },
  {
   "cell_type": "code",
   "execution_count": null,
   "metadata": {},
   "outputs": [],
   "source": [
    "compressed = pca(inputs)"
   ]
  },
  {
   "cell_type": "code",
   "execution_count": null,
   "metadata": {},
   "outputs": [],
   "source": [
    "def knn(inputs, targets, k: int):\n",
    "    classifier = KNeighborsClassifier(n_neighbors=k)\n",
    "    \n",
    "    classifier.fit(inputs, targets)\n",
    "    \n",
    "    return classifier.predict(inputs)"
   ]
  },
  {
   "cell_type": "code",
   "execution_count": null,
   "metadata": {},
   "outputs": [],
   "source": [
    "def how_good_is_k(inputs, targets, k: int):\n",
    "    classifiedData = knn(inputs, targets, k)\n",
    "\n",
    "    totalRight = 0\n",
    "    totalEntries = len(targets)\n",
    "\n",
    "    for i in range(totalEntries):\n",
    "        if classifiedData[i] == targets[i]:\n",
    "            totalRight += 1\n",
    "    \n",
    "    return totalRight / totalEntries"
   ]
  },
  {
   "cell_type": "code",
   "execution_count": null,
   "metadata": {},
   "outputs": [],
   "source": [
    "# Returns the most accurate k values' classified data\n",
    "def classify_knn(inputs, targets):\n",
    "    accuracies = []\n",
    "\n",
    "    for k in range(1, 20):\n",
    "        accuracies.append(how_good_is_k(inputs, targets, k))\n",
    "\n",
    "    plt.figure()\n",
    "    plt.plot(range(1, 20), accuracies)\n",
    "    plt.xlabel('k')\n",
    "    plt.ylabel('Accuracy')\n",
    "    plt.title(\"Accuracy of kNN with different k values\")\n",
    "    plt.show()\n",
    "    \n",
    "    return knn(inputs, targets, accuracies.index(max(accuracies)) + 1)"
   ]
  },
  {
   "cell_type": "code",
   "execution_count": null,
   "metadata": {},
   "outputs": [],
   "source": [
    "classifiedData = classify_knn(compressed, targets)"
   ]
  },
  {
   "cell_type": "code",
   "execution_count": null,
   "metadata": {},
   "outputs": [],
   "source": [
    "plt.figure()\n",
    "plt.scatter(compressed[:, 0], compressed[:, 1], c=classifiedData)\n",
    "plt.show()"
   ]
  },
  {
   "cell_type": "code",
   "execution_count": null,
   "metadata": {},
   "outputs": [],
   "source": [
    "# kernel can be \"linear\", \"poly\" or \"rbf\"\n",
    "# degree can be 2 or 3\n",
    "def svm(inputs, targets, kernel: str, degree: int):\n",
    "    classifier = SVC(kernel=kernel, degree=degree)\n",
    "\n",
    "    classifier.fit(inputs, targets)\n",
    "\n",
    "    return classifier.predict(inputs)"
   ]
  },
  {
   "cell_type": "code",
   "execution_count": null,
   "metadata": {},
   "outputs": [],
   "source": [
    "def how_good_is_svm(inputs, targets, kernel, degree):\n",
    "    classifiedData = svm(inputs, targets, kernel, degree)\n",
    "\n",
    "    totalRight = 0\n",
    "    totalEntries = len(targets)\n",
    "\n",
    "    for i in range(totalEntries):\n",
    "        if classifiedData[i] == targets[i]:\n",
    "            totalRight += 1\n",
    "    \n",
    "    return totalRight / totalEntries"
   ]
  },
  {
   "cell_type": "code",
   "execution_count": null,
   "metadata": {},
   "outputs": [],
   "source": [
    "def classify_svm(inputs, targets):\n",
    "    kernels = [\"linear\", \"poly\", \"rbf\"]\n",
    "    degrees = [2, 3]\n",
    "    accuracies = []\n",
    "\n",
    "    for kernel in kernels:\n",
    "        for degree in degrees:\n",
    "            accuracies.append([kernel, degree, how_good_is_svm(inputs, targets, kernel, degree)])\n",
    "\n",
    "    mostAccurate = max(accuracies, key=lambda x: x[2])\n",
    "\n",
    "    return svm(inputs, targets, mostAccurate[0], mostAccurate[1])"
   ]
  },
  {
   "cell_type": "code",
   "execution_count": null,
   "metadata": {},
   "outputs": [],
   "source": [
    "classifiedData = classify_svm(inputs, targets)"
   ]
  },
  {
   "cell_type": "code",
   "execution_count": null,
   "metadata": {},
   "outputs": [],
   "source": [
    "plt.figure()\n",
    "plt.scatter(compressed[:, 0], compressed[:, 1], c=classifiedData)\n",
    "plt.show()"
   ]
  },
  {
   "cell_type": "markdown",
   "metadata": {},
   "source": [
    "# 1.3 Assessment of Classification"
   ]
  },
  {
   "cell_type": "code",
   "execution_count": null,
   "metadata": {},
   "outputs": [],
   "source": [
    "from sklearn.model_selection import cross_val_score"
   ]
  },
  {
   "cell_type": "code",
   "execution_count": null,
   "metadata": {},
   "outputs": [],
   "source": [
    "def svm_cross_val(inputs, targets, kernel: str, degree: int):\n",
    "    classifier = SVC(kernel=kernel, degree=degree)\n",
    "\n",
    "    return cross_val_score(classifier, inputs, targets, cv=10)"
   ]
  },
  {
   "cell_type": "code",
   "execution_count": null,
   "metadata": {},
   "outputs": [],
   "source": [
    "def knn_cross_val(inputs, targets, k: int):\n",
    "    classifier = KNeighborsClassifier(n_neighbors=k)\n",
    "    \n",
    "    return cross_val_score(classifier, inputs, targets, cv=10)"
   ]
  },
  {
   "cell_type": "code",
   "execution_count": null,
   "metadata": {},
   "outputs": [],
   "source": [
    "knn_accuracies = knn_cross_val(compressed, targets, 3)\n",
    "svm_accuracies = svm_cross_val(inputs, targets, \"poly\", 3)"
   ]
  },
  {
   "cell_type": "code",
   "execution_count": null,
   "metadata": {},
   "outputs": [],
   "source": [
    "plt.figure()\n",
    "plt.plot(range(1, 11), knn_accuracies, label=\"KNN\")\n",
    "plt.plot(range(1, 11), svm_accuracies, label=\"SVM\")\n",
    "plt.legend()\n",
    "plt.show()"
   ]
  }
 ],
 "metadata": {
  "kernelspec": {
   "display_name": "venv",
   "language": "python",
   "name": "python3"
  },
  "language_info": {
   "codemirror_mode": {
    "name": "ipython",
    "version": 3
   },
   "file_extension": ".py",
   "mimetype": "text/x-python",
   "name": "python",
   "nbconvert_exporter": "python",
   "pygments_lexer": "ipython3",
   "version": "3.12.9"
  }
 },
 "nbformat": 4,
 "nbformat_minor": 2
}
